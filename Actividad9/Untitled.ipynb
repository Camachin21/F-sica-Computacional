{
 "cells": [
  {
   "cell_type": "code",
   "execution_count": 1,
   "metadata": {},
   "outputs": [],
   "source": [
    "def vectorfield(w, t, p):\n",
    "    x1, y1, x2, y2 = w\n",
    "    m1, m2, k1, k2, k3, L1, L2, b1, b2 = p\n",
    "    \n",
    "    f = [y1,\n",
    "         (-b1 * y1 - k1 * (x1 - L1) - k2 * ( x1 - L1 + L2 - x2 )) / m1,\n",
    "         y2,\n",
    "         (-b2 * y2 - k3 * ( x2 - L2 ) - k2 * ( x2 - L2 + L1 - x1 ))/ m2]  \n",
    "    return f"
   ]
  },
  {
   "cell_type": "code",
   "execution_count": 2,
   "metadata": {},
   "outputs": [],
   "source": [
    "from scipy.integrate import odeint\n",
    "#Masas\n",
    "m1 = 1.0\n",
    "m2 = 1.0\n",
    "#Constantes del resorte\n",
    "k1 = 1.0\n",
    "k2 = 2.0\n",
    "k3 = 3.0\n",
    "#Coeficientes de fricción\n",
    "b1 = 0.5\n",
    "b2 = 0.1\n",
    "#Longitud natural\n",
    "L1 = 1.0\n",
    "L2 = 0.9\n",
    "\n",
    "#Condiciones iniciales\n",
    "x1 = 1.0\n",
    "y1 = 1.0\n",
    "x2 = 0.0\n",
    "y2 = 0.0\n",
    "\n",
    "#Parámetros de resolución de EDO (Ecuación Diferencial Ordinaria)\n",
    "abserr = 1.0e-8\n",
    "relerr = 1.0e-6\n",
    "stoptime = 30.0\n",
    "numpoints = 750\n",
    "\n",
    "#Ancho de paso\n",
    "t = [stoptime * float(i) / (numpoints - 1) for i in range(numpoints)]\n",
    "\n",
    "\n",
    "p = [m1, m2, k1, k2, k3, L1, L2, b1, b2]\n",
    "w0 = [x1, y1, x2, y2]\n",
    "\n",
    "#Llamamos al solucionador de EDO\n",
    "wsol = odeint(vectorfield, w0, t, args=(p,), atol=abserr, rtol=relerr)\n",
    "\n",
    "for t1, w1 in zip(t, wsol):\n",
    "    print (t1, w1[0], w1[1], w1[2], w1[3],file =open('dos_resortes ','a'))"
   ]
  },
  {
   "cell_type": "code",
   "execution_count": 3,
   "metadata": {},
   "outputs": [],
   "source": [
    "# Plot the solution that was generated\n",
    "\n",
    "from numpy import loadtxt\n",
    "import matplotlib.pyplot as plt\n",
    "from matplotlib.font_manager import FontProperties\n",
    "\n",
    "t, x1, xy, x2, y2 = loadtxt('dos_resortes', unpack=True)\n",
    "\n",
    "plt.figure(figsize=(6, 4.5))\n",
    "\n",
    "plt.xlabel('t')\n",
    "plt.grid()\n",
    "#hold(True)\n",
    "lw = 1\n",
    "\n",
    "plt.plot(t, x1, 'b', linewidth=lw)\n",
    "plt.plot(t, x2, 'g', linewidth=lw)\n",
    "\n",
    "plt.legend((r'$x_1$', r'$x_2$'), prop=FontProperties(size=16))\n",
    "plt.title('Mass Displacements for the\\nCoupled Spring-Mass System')\n",
    "plt.savefig('two_springs.png', dpi=100)"
   ]
  },
  {
   "cell_type": "code",
   "execution_count": null,
   "metadata": {},
   "outputs": [],
   "source": []
  }
 ],
 "metadata": {
  "kernelspec": {
   "display_name": "Python 3",
   "language": "python",
   "name": "python3"
  },
  "language_info": {
   "codemirror_mode": {
    "name": "ipython",
    "version": 3
   },
   "file_extension": ".py",
   "mimetype": "text/x-python",
   "name": "python",
   "nbconvert_exporter": "python",
   "pygments_lexer": "ipython3",
   "version": "3.7.1"
  }
 },
 "nbformat": 4,
 "nbformat_minor": 2
}
